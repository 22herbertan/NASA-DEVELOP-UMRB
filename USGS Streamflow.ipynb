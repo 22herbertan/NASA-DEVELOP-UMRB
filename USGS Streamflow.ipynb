{
 "cells": [
  {
   "cell_type": "markdown",
   "id": "1953fefe-bbf7-437a-91d7-92e331071a71",
   "metadata": {},
   "source": [
    "# USGS Streamflow Acquisition"
   ]
  },
  {
   "cell_type": "code",
   "execution_count": 17,
   "id": "20a142be-5599-4189-af4d-7046a066d786",
   "metadata": {
    "editable": true,
    "slideshow": {
     "slide_type": ""
    },
    "tags": []
   },
   "outputs": [],
   "source": [
    "import urllib.parse\n",
    "import urllib.request\n",
    "import os\n",
    "import pandas as pd\n",
    "import numpy as np\n",
    "import matplotlib.pyplot as plt\n",
    "%matplotlib inline\n",
    "from IPython.display import display\n",
    "#importing libraries"
   ]
  },
  {
   "cell_type": "code",
   "execution_count": 18,
   "id": "9467d785-0360-4d5a-b74b-e329f2513170",
   "metadata": {},
   "outputs": [
    {
     "name": "stdin",
     "output_type": "stream",
     "text": [
      "What is the station ID?\t 06350000\n",
      "Start date (YYYY-MM-DD):\t 2000-01-01\n",
      "End date (YYYY-MM-DD):\t 2024-12-31\n"
     ]
    }
   ],
   "source": [
    "station_id = input(\"What is the station ID?\\t\")\n",
    "start_date = input(\"Start date (YYYY-MM-DD):\\t\")\n",
    "end_date = input(\"End date (YYYY-MM-DD):\\t\")\n",
    "folder = os.getcwd()\n",
    "#getting user input to determine station id"
   ]
  },
  {
   "cell_type": "code",
   "execution_count": 21,
   "id": "ba397a3e-6650-47b2-a335-8a733937be3d",
   "metadata": {},
   "outputs": [
    {
     "name": "stdout",
     "output_type": "stream",
     "text": [
      "Link:  https://nwis.waterdata.usgs.gov/nwis/dv?cb_00060=on&format=rdb&site_no=06350000&legacy=&referred_module=sw&period=&begin_date=2000-01-01&end_date=2024-12-31\n"
     ]
    }
   ],
   "source": [
    "section1 = \"https://nwis.waterdata.usgs.gov/nwis/dv?cb_00060=on&format=rdb&site_no=\"\n",
    "section2 = \"&legacy=&referred_module=sw&period=&begin_date=\"\n",
    "section3 = \"&end_date=\"\n",
    "link = (section1 + station_id + section2 + start_date + section3 + end_date)\n",
    "print(\"Link: \",link)\n",
    "#getting link to USGS streamflow data"
   ]
  },
  {
   "cell_type": "code",
   "execution_count": 22,
   "id": "9c5bf9f0-7a4e-4735-a7ea-450258ae7285",
   "metadata": {},
   "outputs": [],
   "source": [
    "USGS_page = urllib.request.urlopen(link)\n",
    "downloaded_data = USGS_page.read()\n",
    "#reading the link"
   ]
  },
  {
   "cell_type": "code",
   "execution_count": 23,
   "id": "ef86de43-967a-483f-87ae-b7ea0548d966",
   "metadata": {},
   "outputs": [
    {
     "data": {
      "text/plain": [
       "bytes"
      ]
     },
     "execution_count": 23,
     "metadata": {},
     "output_type": "execute_result"
    }
   ],
   "source": [
    "type(downloaded_data)\n",
    "#determining data type"
   ]
  },
  {
   "cell_type": "code",
   "execution_count": 24,
   "id": "79e05aff-f0e0-432d-9b78-0dc6760b6043",
   "metadata": {},
   "outputs": [
    {
     "data": {
      "text/plain": [
       "str"
      ]
     },
     "execution_count": 24,
     "metadata": {},
     "output_type": "execute_result"
    }
   ],
   "source": [
    "str_data = downloaded_data.decode()\n",
    "type(str_data)\n",
    "#str_data to see what data looks like\n",
    "#converting to string"
   ]
  },
  {
   "cell_type": "code",
   "execution_count": 25,
   "id": "831025a6-1313-4216-954d-c3efa543a97f",
   "metadata": {},
   "outputs": [],
   "source": [
    "f_str_data = str_data.split(\"\\n\")\n",
    "#f_str_data\n",
    "#reformatting into lines with split"
   ]
  },
  {
   "cell_type": "code",
   "execution_count": 26,
   "id": "1203cb46-c8bd-47c0-92ac-23f2b06a8076",
   "metadata": {},
   "outputs": [],
   "source": [
    "station_name = \"\"\n",
    "for line in range(len(f_str_data)):\n",
    "    if f_str_data[line].startswith(\"#    USGS\"):\n",
    "        station_name=f_str_data[line][3:]\n",
    "    #print(station_name)\n",
    "#double-checking station name"
   ]
  },
  {
   "cell_type": "code",
   "execution_count": 27,
   "id": "381ebe3e-aa7a-43ce-b36e-44ddc23cf173",
   "metadata": {},
   "outputs": [],
   "source": [
    "date_flow = \"\"\n",
    "\n",
    "for line in range(len(f_str_data)):\n",
    "    if f_str_data[line].startswith(\"USGS\"):\n",
    "        data = f_str_data[line][14:]\n",
    "        columns = data.split('\\t')\n",
    "        rows = ','.join([columns[0],(columns[1])])\n",
    "        date_flow += rows + '\\n'\n",
    "date_flow = date_flow.encode()\n",
    "\n",
    "with open(folder+'/USGS_Data_for_' + station_id  + '.txt', 'wb') as text:\n",
    "        text.write(date_flow)\n",
    "#formatting data into rows and columns"
   ]
  },
  {
   "cell_type": "code",
   "execution_count": 28,
   "id": "a3f1012e-e3ef-4d72-b446-beb494a64413",
   "metadata": {},
   "outputs": [
    {
     "data": {
      "text/html": [
       "<div>\n",
       "<style scoped>\n",
       "    .dataframe tbody tr th:only-of-type {\n",
       "        vertical-align: middle;\n",
       "    }\n",
       "\n",
       "    .dataframe tbody tr th {\n",
       "        vertical-align: top;\n",
       "    }\n",
       "\n",
       "    .dataframe thead th {\n",
       "        text-align: right;\n",
       "    }\n",
       "</style>\n",
       "<table border=\"1\" class=\"dataframe\">\n",
       "  <thead>\n",
       "    <tr style=\"text-align: right;\">\n",
       "      <th></th>\n",
       "      <th>Discharge (cfs)</th>\n",
       "    </tr>\n",
       "    <tr>\n",
       "      <th>Date</th>\n",
       "      <th></th>\n",
       "    </tr>\n",
       "  </thead>\n",
       "  <tbody>\n",
       "    <tr>\n",
       "      <th>2000-01-01</th>\n",
       "      <td>6.6</td>\n",
       "    </tr>\n",
       "    <tr>\n",
       "      <th>2000-01-02</th>\n",
       "      <td>6.5</td>\n",
       "    </tr>\n",
       "    <tr>\n",
       "      <th>2000-01-03</th>\n",
       "      <td>6.1</td>\n",
       "    </tr>\n",
       "    <tr>\n",
       "      <th>2000-01-04</th>\n",
       "      <td>5.8</td>\n",
       "    </tr>\n",
       "    <tr>\n",
       "      <th>2000-01-05</th>\n",
       "      <td>5.5</td>\n",
       "    </tr>\n",
       "  </tbody>\n",
       "</table>\n",
       "</div>"
      ],
      "text/plain": [
       "            Discharge (cfs)\n",
       "Date                       \n",
       "2000-01-01              6.6\n",
       "2000-01-02              6.5\n",
       "2000-01-03              6.1\n",
       "2000-01-04              5.8\n",
       "2000-01-05              5.5"
      ]
     },
     "execution_count": 28,
     "metadata": {},
     "output_type": "execute_result"
    }
   ],
   "source": [
    "filename = folder+'/USGS_Data_for_' + station_id  + '.txt'\n",
    "columns = ['Date','Discharge (cfs)']\n",
    "df = pd.read_csv(filename,header=None,names=columns,parse_dates=[0])\n",
    "df=df.set_index(['Date'])\n",
    "df['Discharge (cfs)']=pd.to_numeric(df['Discharge (cfs)'], errors='coerce')\n",
    "df.head()\n",
    "#naming rows and columns, formatting file\n",
    "#df.tail() shows the end date"
   ]
  },
  {
   "cell_type": "code",
   "execution_count": 29,
   "id": "1477754d-d30d-4ce4-94c9-b162907803c7",
   "metadata": {},
   "outputs": [
    {
     "data": {
      "image/png": "[encoded data removed]",
      "text/plain": [
       "<Figure size 1400x500 with 1 Axes>"
      ]
     },
     "metadata": {},
     "output_type": "display_data"
    }
   ],
   "source": [
    "fig, ax = plt.subplots(figsize=(14, 5))\n",
    "#plotting the axes"
   ]
  },
  {
   "cell_type": "code",
   "execution_count": 30,
   "id": "90cf0952-825d-41ad-b449-94f4fbee2530",
   "metadata": {
    "scrolled": true
   },
   "outputs": [],
   "source": [
    "df.plot(ax=ax, title= station_name, xlabel=\"Time\", ylabel=\"Discharge (cfs)\");\n",
    "#adding the data"
   ]
  },
  {
   "cell_type": "code",
   "execution_count": 31,
   "id": "5c8fe76d-7eee-4791-a859-7924b08a61f5",
   "metadata": {},
   "outputs": [],
   "source": [
    "fig.savefig(\"UpperCannonball_06350000.png\", dpi=300, bbox_inches='tight')\n",
    "#saving the figure"
   ]
  },
  {
   "cell_type": "code",
   "execution_count": 2,
   "id": "2ccadc2f-b046-4c1f-9266-792bad0a81c2",
   "metadata": {
    "editable": true,
    "slideshow": {
     "slide_type": ""
    },
    "tags": []
   },
   "outputs": [
    {
     "ename": "NameError",
     "evalue": "name 'fig' is not defined",
     "output_type": "error",
     "traceback": [
      "\u001b[1;31m---------------------------------------------------------------------------\u001b[0m",
      "\u001b[1;31mNameError\u001b[0m                                 Traceback (most recent call last)",
      "Cell \u001b[1;32mIn[2], line 1\u001b[0m\n\u001b[1;32m----> 1\u001b[0m display(\u001b[43mfig\u001b[49m)\n\u001b[0;32m      2\u001b[0m \u001b[38;5;66;03m#displaying figure to check for errors\u001b[39;00m\n",
      "\u001b[1;31mNameError\u001b[0m: name 'fig' is not defined"
     ]
    }
   ],
   "source": [
    "display(fig)\n",
    "#displaying figure to check for errors"
   ]
  }
 ],
 "metadata": {
  "kernelspec": {
   "display_name": "Python 3 (ipykernel)",
   "language": "python",
   "name": "python3"
  },
  "language_info": {
   "codemirror_mode": {
    "name": "ipython",
    "version": 3
   },
   "file_extension": ".py",
   "mimetype": "text/x-python",
   "name": "python",
   "nbconvert_exporter": "python",
   "pygments_lexer": "ipython3",
   "version": "3.10.16"
  }
 },
 "nbformat": 4,
 "nbformat_minor": 5
}
